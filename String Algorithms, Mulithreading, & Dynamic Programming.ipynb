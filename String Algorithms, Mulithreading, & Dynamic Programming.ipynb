{
 "cells": [
  {
   "cell_type": "markdown",
   "id": "8ca59dde-d035-4490-a824-d1e3f4b8cdd6",
   "metadata": {},
   "source": [
    "# String Algorithms"
   ]
  },
  {
   "cell_type": "markdown",
   "id": "0556c030-9a9b-451f-ac0d-9f438f54a8f9",
   "metadata": {},
   "source": [
    "String algorithms are essential in computer science for processing and analyzing textual data efficiently. They enable operations such as searching for specific words or patterns, extracting substrings, and parsing structured data formats like JSON or XML. In data mining and information retrieval, string algorithms help search through large datasets to find relevant information and identify patterns within textual data.\n",
    "\n",
    "Natural language processing relies on string algorithms for tasks such as tokenization, part-of-speech tagging, and sentiment analysis. Compression and encoding techniques utilize string algorithms to reduce the size of textual data for storage or transmission. In cryptography, these algorithms are used for encrypting and decrypting messages, as well as in secure communication protocols. Search engines heavily rely on string algorithms to index and search through vast amounts of textual content on the web efficiently.\n",
    "\n",
    "Understanding and developing efficient string algorithms enable us to extract valuable insights from textual data and solve complex problems across various domains. Overall, string algorithms play a fundamental role in computer science, enabling a wide range of applications and facilitating the processing and analysis of textual data. \n",
    "\n",
    "We are going to look at a few String Algorithms, implement them, and take a look at their runtime relative to one another for the same task. "
   ]
  },
  {
   "cell_type": "markdown",
   "id": "7df42696-875c-4772-a4a8-35022933e7f0",
   "metadata": {},
   "source": [
    "For these algorithms, we'll be analysing a corpus of text. Essentially an extremely large string, that contains the entire body of text of what we're investigating. This is going to be one large string, of length *m*. We'll call this the corpus. Very morbid sounding name. The pattern we'll be looking for is essentially a phrase, which is again a smaller string of length *n*. We'll call this the pattern.  "
   ]
  },
  {
   "cell_type": "code",
   "execution_count": 105,
   "id": "49f519f7-23ce-4d9b-9e7e-ec69a0ea5529",
   "metadata": {},
   "outputs": [],
   "source": [
    "import matplotlib.pyplot as plt\n",
    "import requests\n",
    "from bs4 import BeautifulSoup\n",
    "import pdfplumber\n",
    "import pandas as pd \n",
    "import numpy as np\n",
    "import time\n",
    "import threading"
   ]
  },
  {
   "cell_type": "markdown",
   "id": "903fc8f0-874b-4271-9e8d-7b813191b521",
   "metadata": {},
   "source": [
    "## The Naive Algorithm "
   ]
  },
  {
   "cell_type": "markdown",
   "id": "09ab37dd-b038-4497-9846-4b928e1afa2f",
   "metadata": {},
   "source": [
    "The Naive Algorithm is a simple string search method that iterates through the text one character at a time and compares it with the pattern character by character. It starts comparing characters from the beginning of the text and shifts the pattern by one position if a mismatch occurs. \n",
    "\n",
    "The algorithm has a time complexity of $O(m * n)$, where m is the length of the text (corpus) and n is the length of the pattern, as it may need to perform up to n * m character comparisons in the worst case. In the best case, (strange choice of words I know) where the patttern is not present in the corpus, the time complexity is $O(m)$. \n",
    "\n",
    "Despite its simplicity, the Naive Algorithm is inefficient for large texts or patterns due to its quadratic time complexity. It does not utilize any preprocessing or advanced techniques to optimize the search process. However, it serves as a basic building block for understanding more sophisticated string search algorithms like Knuth-Morris-Pratt and Boyer-Moore."
   ]
  },
  {
   "cell_type": "code",
   "execution_count": 2,
   "id": "8c565ff8-8975-48d9-ab75-1c49535eec56",
   "metadata": {},
   "outputs": [],
   "source": [
    "def naive_string_search(text, pattern):\n",
    "    #Declaring a list for our indices (if they exist) and getting our string lengths in order to construct our nested for loop\n",
    "    indices = []\n",
    "    n = len(text)\n",
    "    m = len(pattern)\n",
    "    #Iterating over the entire corpus length, up to (m+1). This is due to the pattern (length of n) needing to be shifted to m-n positions, + 1 as \n",
    "    #string indexing starts at 0\n",
    "    for i in range(n - m + 1):\n",
    "        j = 0\n",
    "        #For each string character in corpus, check if it matches pattern[0] element. If so, increment j and check successive pattern and corpus characters\n",
    "        while j < m and text[i + j] == pattern[j]:\n",
    "            j += 1\n",
    "        #If the entire string is a match (j incremented up to the length of the pattern) append the beginning index \n",
    "        if j == m:\n",
    "            indices.append(i)\n",
    "\n",
    "    return indices"
   ]
  },
  {
   "cell_type": "code",
   "execution_count": 3,
   "id": "f2843d14-a728-441e-aa8f-2ad49d7ab550",
   "metadata": {},
   "outputs": [
    {
     "name": "stdout",
     "output_type": "stream",
     "text": [
      "Pattern found at indices: [12]\n"
     ]
    }
   ],
   "source": [
    "text = \"Lorem ipsum dolor sit amet, consectetur adipiscing elit.\"\n",
    "pattern = \"dolor\"\n",
    "    \n",
    "occurrences = naive_string_search(text, pattern)\n",
    "print(\"Pattern found at indices:\", occurrences)"
   ]
  },
  {
   "cell_type": "markdown",
   "id": "d8208b22-f918-4f98-91a9-fbe5cb98e941",
   "metadata": {},
   "source": [
    "OK, that's cool it works. What we're going to do now, is get a larger corpus. After a bit of consultation with Google, I've found the screenplays for HBO's Chernobyl. One of the greatest seasons of TV ever written. Not great, but not terrible you might call it. We'll then check the corpii (???) for some stereotypical Russian jargon like comrade, roentgen etc. \n",
    "\n",
    " - Firstly though, some processing of the data will have to be done. We'll need to scrape the HBO website for each of the PDF links. Thank goodness Craig Mazin (The genius behind it all) was nice enough to share these transcripts. These transcripts are available at: https://www.hbo.com/chernobyl/episode-scripts\n",
    " - We'll then have to download these PDF's to our own local desktop.\n",
    " - We're then going to use a package called PDFPlumber in order to convert these PDF's to text for our Naive Algorithm. "
   ]
  },
  {
   "cell_type": "code",
   "execution_count": 4,
   "id": "d27c99a8-acc2-4fec-a874-653101353546",
   "metadata": {},
   "outputs": [],
   "source": [
    "def scrape_pdf_links(url):\n",
    "    #For a given url, we send a GET https request, and assign the response to the response variable\n",
    "    response = requests.get(url)\n",
    "    #We parse the response using Beautiful Soup \n",
    "    soup = BeautifulSoup(response.content, 'html.parser')\n",
    "    #Here we use list comprehension. This finds all anchor <a> elements that have a non-empty href element. These are then further reduced to only links\n",
    "    #that end with the PDF file extension. We then pick out only the href PDF for our list\n",
    "    pdf_links = [a['href'] for a in soup.find_all('a', href=True) if a['href'].endswith('.pdf')]\n",
    "    return pdf_links"
   ]
  },
  {
   "cell_type": "code",
   "execution_count": 5,
   "id": "82c4d222-544a-4320-8da3-d161bff40e28",
   "metadata": {},
   "outputs": [
    {
     "data": {
      "text/plain": [
       "['https://johnaugust.com/wp-content/uploads/2019/06/Chernobyl_Episode-11_23_45.pdf',\n",
       " 'https://johnaugust.com/wp-content/uploads/2019/06/Chernobyl_Episode-2Please-Remain-Calm.pdf',\n",
       " 'https://johnaugust.com/wp-content/uploads/2019/06/Chernobyl_Episode-3Open-Wide-O-Earth.pdf',\n",
       " 'https://johnaugust.com/wp-content/uploads/2019/06/Chernobyl_Episode-4The-Happiness-Of-All-Mankind.pdf',\n",
       " 'https://johnaugust.com/wp-content/uploads/2019/06/Chernobyl_Episode-5Vichnaya-Pamyat.pdf']"
      ]
     },
     "execution_count": 5,
     "metadata": {},
     "output_type": "execute_result"
    }
   ],
   "source": [
    "episode_script_links = scrape_pdf_links('https://www.hbo.com/chernobyl/episode-scripts')\n",
    "episode_script_links"
   ]
  },
  {
   "cell_type": "code",
   "execution_count": 6,
   "id": "9fc26cb9-b4c9-4249-82ab-162911938324",
   "metadata": {},
   "outputs": [],
   "source": [
    "def download_pdfs(pdf_links):\n",
    "    for link in pdf_links: #For each pdf is our list\n",
    "        response = requests.get(link) # Creating a response object, equal to the GET request sent to the pdf link from the list \n",
    "        with open(link.split('/')[-1], 'wb') as f: # A file 'f' is opened, and named based on the PDF name from the URL. This file is opened as a 'wb'\n",
    "            # or a write binary file. As we used 'with' the file is closed after writing\n",
    "            f.write(response.content) # We write the contents of this response object to the created file 'f'"
   ]
  },
  {
   "cell_type": "code",
   "execution_count": 7,
   "id": "a7894957-9e19-4f88-957a-45f0ac376507",
   "metadata": {},
   "outputs": [],
   "source": [
    "download_pdfs(episode_script_links)"
   ]
  },
  {
   "cell_type": "code",
   "execution_count": 8,
   "id": "3aca6814-8244-40f0-b763-2249a5582b8d",
   "metadata": {},
   "outputs": [],
   "source": [
    "def extract_text_from_pdfs(pdf_files):\n",
    "    texts = [] # declaring a list, which we will append each episode text file to \n",
    "    for pdf_file in pdf_files: # for every pdf we have saved\n",
    "        with pdfplumber.open(pdf_file) as pdf: # Open each pdf using PDFPlumber and alias it as pdf\n",
    "            text = \"\" #declaring an empty string\n",
    "            for page in pdf.pages: #extract the text from each page\n",
    "                text += page.extract_text()\n",
    "            texts.append(text) # and append it to our texts list\n",
    "    return texts"
   ]
  },
  {
   "cell_type": "code",
   "execution_count": 9,
   "id": "124e47f7-6780-47cf-8dbb-0bb92feb3d50",
   "metadata": {},
   "outputs": [],
   "source": [
    "text_list  = extract_text_from_pdfs(link.split('/')[-1] for link in episode_script_links) \n",
    "# Because we have the PDF's saved to the same directory as the notebook, we can simply access the PDF's from our list of links from above"
   ]
  },
  {
   "cell_type": "code",
   "execution_count": 10,
   "id": "30e12a2f-fc6a-44ae-a94e-28ae956c2179",
   "metadata": {},
   "outputs": [
    {
     "data": {
      "text/plain": [
       "5"
      ]
     },
     "execution_count": 10,
     "metadata": {},
     "output_type": "execute_result"
    }
   ],
   "source": [
    "len(text_list)"
   ]
  },
  {
   "cell_type": "markdown",
   "id": "a230e5a0-6e91-4a8d-868d-45fc860ccbdf",
   "metadata": {},
   "source": [
    "Great, we have a list of 5 corpuses of text. We can now check each episode, and see how many times certain words appear in the episodes dialogue, and how long this computation takes to occur. "
   ]
  },
  {
   "cell_type": "code",
   "execution_count": 11,
   "id": "9aa1844e-88c5-4062-b0a8-76531e97a2c6",
   "metadata": {},
   "outputs": [
    {
     "name": "stdout",
     "output_type": "stream",
     "text": [
      "The word Comrade appears in Chernobyl_Episode-11_23_45 a total of 6 times\n",
      "The word roentgen appears in Chernobyl_Episode-11_23_45 a total of 8 times\n",
      "The word RBMK appears in Chernobyl_Episode-11_23_45 a total of 4 times\n",
      "The word lies appears in Chernobyl_Episode-11_23_45 a total of 2 times\n",
      "The word core appears in Chernobyl_Episode-11_23_45 a total of 21 times\n",
      "The word Soviet appears in Chernobyl_Episode-11_23_45 a total of 6 times\n",
      "The word graphite appears in Chernobyl_Episode-11_23_45 a total of 5 times\n",
      "The word chain appears in Chernobyl_Episode-11_23_45 a total of 0 times\n",
      "\n",
      "The word Comrade appears in Chernobyl_Episode-2Please-Remain-Calm a total of 9 times\n",
      "The word roentgen appears in Chernobyl_Episode-2Please-Remain-Calm a total of 6 times\n",
      "The word RBMK appears in Chernobyl_Episode-2Please-Remain-Calm a total of 3 times\n",
      "The word lies appears in Chernobyl_Episode-2Please-Remain-Calm a total of 1 times\n",
      "The word core appears in Chernobyl_Episode-2Please-Remain-Calm a total of 20 times\n",
      "The word Soviet appears in Chernobyl_Episode-2Please-Remain-Calm a total of 21 times\n",
      "The word graphite appears in Chernobyl_Episode-2Please-Remain-Calm a total of 11 times\n",
      "The word chain appears in Chernobyl_Episode-2Please-Remain-Calm a total of 5 times\n",
      "\n",
      "The word Comrade appears in Chernobyl_Episode-3Open-Wide-O-Earth a total of 12 times\n",
      "The word roentgen appears in Chernobyl_Episode-3Open-Wide-O-Earth a total of 0 times\n",
      "The word RBMK appears in Chernobyl_Episode-3Open-Wide-O-Earth a total of 1 times\n",
      "The word lies appears in Chernobyl_Episode-3Open-Wide-O-Earth a total of 5 times\n",
      "The word core appears in Chernobyl_Episode-3Open-Wide-O-Earth a total of 5 times\n",
      "The word Soviet appears in Chernobyl_Episode-3Open-Wide-O-Earth a total of 6 times\n",
      "The word graphite appears in Chernobyl_Episode-3Open-Wide-O-Earth a total of 2 times\n",
      "The word chain appears in Chernobyl_Episode-3Open-Wide-O-Earth a total of 1 times\n",
      "\n",
      "The word Comrade appears in Chernobyl_Episode-4The-Happiness-Of-All-Mankind a total of 4 times\n",
      "The word roentgen appears in Chernobyl_Episode-4The-Happiness-Of-All-Mankind a total of 9 times\n",
      "The word RBMK appears in Chernobyl_Episode-4The-Happiness-Of-All-Mankind a total of 4 times\n",
      "The word lies appears in Chernobyl_Episode-4The-Happiness-Of-All-Mankind a total of 3 times\n",
      "The word core appears in Chernobyl_Episode-4The-Happiness-Of-All-Mankind a total of 4 times\n",
      "The word Soviet appears in Chernobyl_Episode-4The-Happiness-Of-All-Mankind a total of 11 times\n",
      "The word graphite appears in Chernobyl_Episode-4The-Happiness-Of-All-Mankind a total of 13 times\n",
      "The word chain appears in Chernobyl_Episode-4The-Happiness-Of-All-Mankind a total of 0 times\n",
      "\n",
      "The word Comrade appears in Chernobyl_Episode-5Vichnaya-Pamyat a total of 24 times\n",
      "The word roentgen appears in Chernobyl_Episode-5Vichnaya-Pamyat a total of 0 times\n",
      "The word RBMK appears in Chernobyl_Episode-5Vichnaya-Pamyat a total of 4 times\n",
      "The word lies appears in Chernobyl_Episode-5Vichnaya-Pamyat a total of 4 times\n",
      "The word core appears in Chernobyl_Episode-5Vichnaya-Pamyat a total of 18 times\n",
      "The word Soviet appears in Chernobyl_Episode-5Vichnaya-Pamyat a total of 20 times\n",
      "The word graphite appears in Chernobyl_Episode-5Vichnaya-Pamyat a total of 4 times\n",
      "The word chain appears in Chernobyl_Episode-5Vichnaya-Pamyat a total of 2 times\n",
      "\n",
      "The total elapsed time for the Naive Algorithm is 146.82 ms\n"
     ]
    }
   ],
   "source": [
    "Chernobyl_phrases = ['Comrade', 'roentgen', 'RBMK', 'lies', 'core', 'Soviet', 'graphite', 'chain'] #Very Soviet list\n",
    "episode_name = [link.split('/')[-1].split('.pdf')[0] for link in episode_script_links] #Getting the episode names from the PDF's\n",
    "\n",
    "Naive_Chernoby_DF = pd.DataFrame() # Calling the Dataframe Constructor. One of the weirder DF names might I add\n",
    "\n",
    "for episode,episode__name in zip(text_list,episode_name): #iterating through the episode text file, and episode name simultaneously\n",
    "    start_time = time.time()\n",
    "    word_count = []\n",
    "    for word in Chernobyl_phrases: #For each episode check each word\n",
    "        occurrences = naive_string_search(episode, word) # Implement the Naive algorithm\n",
    "        print(f'The word {word} appears in {episode__name} a total of {len(occurrences)} times') #Print our results to be sure the make sense\n",
    "        word_count.append(len(occurrences))\n",
    "    Naive_Chernoby_DF[episode__name[19:]] = word_count\n",
    "    print('')\n",
    "    end_time = time.time()\n",
    "Naive_Chernoby_DF.index = Chernobyl_phrases\n",
    "print(f'The total elapsed time for the Naive Algorithm is {round((end_time - start_time)*1000, 2)} ms') #Printing out our total time taken"
   ]
  },
  {
   "cell_type": "code",
   "execution_count": 12,
   "id": "5a9b9c77-cde4-4d13-9c7b-4a12cd01fd18",
   "metadata": {},
   "outputs": [
    {
     "data": {
      "text/html": [
       "<div>\n",
       "<style scoped>\n",
       "    .dataframe tbody tr th:only-of-type {\n",
       "        vertical-align: middle;\n",
       "    }\n",
       "\n",
       "    .dataframe tbody tr th {\n",
       "        vertical-align: top;\n",
       "    }\n",
       "\n",
       "    .dataframe thead th {\n",
       "        text-align: right;\n",
       "    }\n",
       "</style>\n",
       "<table border=\"1\" class=\"dataframe\">\n",
       "  <thead>\n",
       "    <tr style=\"text-align: right;\">\n",
       "      <th></th>\n",
       "      <th>1_23_45</th>\n",
       "      <th>Please-Remain-Calm</th>\n",
       "      <th>Open-Wide-O-Earth</th>\n",
       "      <th>The-Happiness-Of-All-Mankind</th>\n",
       "      <th>Vichnaya-Pamyat</th>\n",
       "    </tr>\n",
       "  </thead>\n",
       "  <tbody>\n",
       "    <tr>\n",
       "      <th>Comrade</th>\n",
       "      <td>6</td>\n",
       "      <td>9</td>\n",
       "      <td>12</td>\n",
       "      <td>4</td>\n",
       "      <td>24</td>\n",
       "    </tr>\n",
       "    <tr>\n",
       "      <th>roentgen</th>\n",
       "      <td>8</td>\n",
       "      <td>6</td>\n",
       "      <td>0</td>\n",
       "      <td>9</td>\n",
       "      <td>0</td>\n",
       "    </tr>\n",
       "    <tr>\n",
       "      <th>RBMK</th>\n",
       "      <td>4</td>\n",
       "      <td>3</td>\n",
       "      <td>1</td>\n",
       "      <td>4</td>\n",
       "      <td>4</td>\n",
       "    </tr>\n",
       "    <tr>\n",
       "      <th>lies</th>\n",
       "      <td>2</td>\n",
       "      <td>1</td>\n",
       "      <td>5</td>\n",
       "      <td>3</td>\n",
       "      <td>4</td>\n",
       "    </tr>\n",
       "    <tr>\n",
       "      <th>core</th>\n",
       "      <td>21</td>\n",
       "      <td>20</td>\n",
       "      <td>5</td>\n",
       "      <td>4</td>\n",
       "      <td>18</td>\n",
       "    </tr>\n",
       "    <tr>\n",
       "      <th>Soviet</th>\n",
       "      <td>6</td>\n",
       "      <td>21</td>\n",
       "      <td>6</td>\n",
       "      <td>11</td>\n",
       "      <td>20</td>\n",
       "    </tr>\n",
       "    <tr>\n",
       "      <th>graphite</th>\n",
       "      <td>5</td>\n",
       "      <td>11</td>\n",
       "      <td>2</td>\n",
       "      <td>13</td>\n",
       "      <td>4</td>\n",
       "    </tr>\n",
       "    <tr>\n",
       "      <th>chain</th>\n",
       "      <td>0</td>\n",
       "      <td>5</td>\n",
       "      <td>1</td>\n",
       "      <td>0</td>\n",
       "      <td>2</td>\n",
       "    </tr>\n",
       "  </tbody>\n",
       "</table>\n",
       "</div>"
      ],
      "text/plain": [
       "          1_23_45  Please-Remain-Calm  Open-Wide-O-Earth  \\\n",
       "Comrade         6                   9                 12   \n",
       "roentgen        8                   6                  0   \n",
       "RBMK            4                   3                  1   \n",
       "lies            2                   1                  5   \n",
       "core           21                  20                  5   \n",
       "Soviet          6                  21                  6   \n",
       "graphite        5                  11                  2   \n",
       "chain           0                   5                  1   \n",
       "\n",
       "          The-Happiness-Of-All-Mankind  Vichnaya-Pamyat  \n",
       "Comrade                              4               24  \n",
       "roentgen                             9                0  \n",
       "RBMK                                 4                4  \n",
       "lies                                 3                4  \n",
       "core                                 4               18  \n",
       "Soviet                              11               20  \n",
       "graphite                            13                4  \n",
       "chain                                0                2  "
      ]
     },
     "execution_count": 12,
     "metadata": {},
     "output_type": "execute_result"
    }
   ],
   "source": [
    "Naive_Chernoby_DF"
   ]
  },
  {
   "cell_type": "code",
   "execution_count": 13,
   "id": "154ff497-c8bf-4d45-83ef-68f2c7f2a968",
   "metadata": {},
   "outputs": [
    {
     "data": {
      "image/png": "[encoded data removed]",
      "text/plain": [
       "<Figure size 1000x600 with 1 Axes>"
      ]
     },
     "metadata": {},
     "output_type": "display_data"
    }
   ],
   "source": [
    "# Create a larger figure\n",
    "plt.figure(figsize=(10, 6))\n",
    "\n",
    "# Plot multiple line graphs\n",
    "for index, row in Naive_Chernoby_DF.iterrows():\n",
    "    plt.plot(Naive_Chernoby_DF.columns, row, label=f'{index}')\n",
    "\n",
    "# Add labels and legend\n",
    "plt.xlabel('Category', fontsize=8)\n",
    "plt.ylabel('Value')\n",
    "plt.title(\"HBO's Chernobyl Word Usage\")\n",
    "plt.legend()\n",
    "\n",
    "# Add gridlines\n",
    "plt.grid(True)\n",
    "\n",
    "# Customize x-axis tick labels font size\n",
    "plt.xticks(fontsize=10)\n",
    "\n",
    "# Show the plot\n",
    "plt.show()"
   ]
  },
  {
   "cell_type": "markdown",
   "id": "9dda6857-b7f0-46ff-a18c-ec1701648bfa",
   "metadata": {},
   "source": [
    "A bit of extra analysis because why not. We see an uptick in the frequency of the words Comrade, Soviet, and Core in the final episode. If you haven't seen the show (your loss) I won't ruin it. But this is a Court Scene, in which Legasov (the protagonist), under oath, goes against what the Soviet part had wanted him to say, and instead tells the truth of what happened in Chernobyl. How the core of the RBMK reactor exploded, exposing the inner graphite due to the lies and negligence of the Soviet Communist Party. \n",
    "\n",
    "We also see how core's usage peaks in episode 1, this is where they initially fly into Chernobyl, and see the glowing sky above Reactor 4. They also see that the core has been exposed, which they inferred from the graphite strewn about the site. Graphite is only present within the core for you non-nuclear history buffs. \n",
    "\n",
    "A final note, in that the word 'lies' is never not used in any of the episodes. Quite telling don't you think?"
   ]
  },
  {
   "cell_type": "markdown",
   "id": "e3728534-40b9-4b5a-8526-07caed043ef9",
   "metadata": {},
   "source": [
    "## Boyer-Moore Algorithm "
   ]
  },
  {
   "cell_type": "markdown",
   "id": "d7b39f78-eafa-40a8-88ec-f36356c6bb49",
   "metadata": {},
   "source": [
    "The Boyer-Moore algorithm is a string search algorithm known for its efficiency in searching for occurrences of a pattern within a larger text. It works by scanning the text from left to right, comparing the pattern to substrings of the text. The algorithm utilizesthe bad character rule and the good suffix rule, to skip comparisons and achieve faster search times. We will implement the bad chracter rule here. \n",
    "\n",
    "The bad character rule involves scanning the text from right to left, and when a mismatch is encountered, it checks if the mismatched character in the text occurs in the pattern. If it doesn't, the pattern can be shifted by the length of the pattern; otherwise, it aligns the rightmost occurrence of the character in the pattern with the mismatched character in the text. \n",
    "\r\n",
    "\r\n",
    "\r\n"
   ]
  },
  {
   "cell_type": "code",
   "execution_count": 14,
   "id": "d9e7f4d4-2521-4278-8b00-6b4cf910b43e",
   "metadata": {},
   "outputs": [],
   "source": [
    "def preprocess_bad_character(pattern):\n",
    "    bad_character = {}\n",
    "    for i, char in enumerate(pattern): #Here we iterate through every character of the input string\n",
    "        bad_character[char] = i #Here we set the character's value to it's index. Note that if a character appears twice, the second time will\n",
    "        #overwrite the first. This Character : Latest Index relationship is why we chose a dictionary to output\n",
    "    return bad_character"
   ]
  },
  {
   "cell_type": "code",
   "execution_count": 15,
   "id": "7daaa8fb-56fe-440e-ba0c-232262b5e244",
   "metadata": {},
   "outputs": [
    {
     "data": {
      "text/plain": [
       "{'C': 0,\n",
       " 'o': 8,\n",
       " 'n': 19,\n",
       " 'r': 9,\n",
       " '_': 12,\n",
       " 'G': 6,\n",
       " 'e': 16,\n",
       " 'g': 10,\n",
       " 'S': 13,\n",
       " 'h': 17,\n",
       " 'a': 18}"
      ]
     },
     "execution_count": 15,
     "metadata": {},
     "output_type": "execute_result"
    }
   ],
   "source": [
    "example_bad_character = preprocess_bad_character('Conor_George_Sheehan')\n",
    "example_bad_character #Example using yours truly "
   ]
  },
  {
   "cell_type": "code",
   "execution_count": 16,
   "id": "b6bbff5e-c986-4dc8-8aa7-1beee7958a09",
   "metadata": {},
   "outputs": [],
   "source": [
    "def boyer_moore_search(text, pattern):\n",
    "    indices = []\n",
    "    n = len(text) # These values are important for how to algorithm searches through the corpus of text, stopping n-m before the final text character\n",
    "    m = len(pattern)\n",
    "    if m == 0:\n",
    "        return indices\n",
    "    bad_character = preprocess_bad_character(pattern)#processing the pattern we want to find\n",
    "    i = 0 # This is where we begin iterating from, ground zero\n",
    "    while i <= n - m:\n",
    "        j = m - 1  #this euqals the final character of the pattern string, this is whats checked errytime initially\n",
    "        while j >= 0 and pattern[j] == text[i + j]: # if this matches the text value, decrement j and check if the preceding character also matches\n",
    "            j -= 1\n",
    "        if j == -1:  # if j goes below 0, that means the entire string matched. Therefore we append the i value to indices, indicating the pattern is present\n",
    "            indices.append(i)\n",
    "            i += 1 # Move on a character in the text to be checked\n",
    "        else:\n",
    "            if text[i + j] in bad_character:  # If the value we are currently looking at in the text is not equal to the corresponding index in pattern, \n",
    "                #however it is present in the bad_character dictionary, we shift the pattern string along the text essentially and checking for a match again\n",
    "                shift = max(1, j - bad_character[text[i + j]]) # This is the bad_character rule in action. If we mismatched character is present, we want to \n",
    "                #shift the pattern by j - (index of bad character) to ensure they allign. This is why  this algorithm is more optimal than the Naive approach\n",
    "            #which always skips by 1\n",
    "            else:\n",
    "                shift = j + 1 # If we don't have anything in the dictionary, shift by the length of the pattern\n",
    "            i += shift\n",
    "    return indices"
   ]
  },
  {
   "cell_type": "code",
   "execution_count": 17,
   "id": "3aab0a94-34a3-4ff5-b7e0-d3a03086d970",
   "metadata": {},
   "outputs": [
    {
     "name": "stdout",
     "output_type": "stream",
     "text": [
      "Pattern found at indices: [18]\n"
     ]
    }
   ],
   "source": [
    "text = \"Lorem ipsum dolor sit amet, consectetur adipiscing elit.\"\n",
    "pattern = \"sit\"\n",
    "    \n",
    "occurrences = boyer_moore_search(text, pattern)\n",
    "if occurrences:\n",
    "    print(\"Pattern found at indices:\", occurrences)\n",
    "else:\n",
    "    print(\"Pattern not found in the text.\")"
   ]
  },
  {
   "cell_type": "markdown",
   "id": "1c281a00-a079-42c0-90be-ec0d3d91dd8e",
   "metadata": {},
   "source": [
    "Now let's check how long Boyer-Moore takes in comparison to the Naive method. "
   ]
  },
  {
   "cell_type": "code",
   "execution_count": 18,
   "id": "6b9e6207-7385-41ed-8b84-550769e2e044",
   "metadata": {},
   "outputs": [
    {
     "name": "stdout",
     "output_type": "stream",
     "text": [
      "The word Comrade appears in Chernobyl_Episode-11_23_45 a total of 6 times\n",
      "The word roentgen appears in Chernobyl_Episode-11_23_45 a total of 8 times\n",
      "The word RBMK appears in Chernobyl_Episode-11_23_45 a total of 4 times\n",
      "The word lies appears in Chernobyl_Episode-11_23_45 a total of 2 times\n",
      "The word core appears in Chernobyl_Episode-11_23_45 a total of 21 times\n",
      "The word Soviet appears in Chernobyl_Episode-11_23_45 a total of 6 times\n",
      "The word graphite appears in Chernobyl_Episode-11_23_45 a total of 5 times\n",
      "The word chain appears in Chernobyl_Episode-11_23_45 a total of 0 times\n",
      "\n",
      "The word Comrade appears in Chernobyl_Episode-2Please-Remain-Calm a total of 9 times\n",
      "The word roentgen appears in Chernobyl_Episode-2Please-Remain-Calm a total of 6 times\n",
      "The word RBMK appears in Chernobyl_Episode-2Please-Remain-Calm a total of 3 times\n",
      "The word lies appears in Chernobyl_Episode-2Please-Remain-Calm a total of 1 times\n",
      "The word core appears in Chernobyl_Episode-2Please-Remain-Calm a total of 20 times\n",
      "The word Soviet appears in Chernobyl_Episode-2Please-Remain-Calm a total of 21 times\n",
      "The word graphite appears in Chernobyl_Episode-2Please-Remain-Calm a total of 11 times\n",
      "The word chain appears in Chernobyl_Episode-2Please-Remain-Calm a total of 5 times\n",
      "\n",
      "The word Comrade appears in Chernobyl_Episode-3Open-Wide-O-Earth a total of 12 times\n",
      "The word roentgen appears in Chernobyl_Episode-3Open-Wide-O-Earth a total of 0 times\n",
      "The word RBMK appears in Chernobyl_Episode-3Open-Wide-O-Earth a total of 1 times\n",
      "The word lies appears in Chernobyl_Episode-3Open-Wide-O-Earth a total of 5 times\n",
      "The word core appears in Chernobyl_Episode-3Open-Wide-O-Earth a total of 5 times\n",
      "The word Soviet appears in Chernobyl_Episode-3Open-Wide-O-Earth a total of 6 times\n",
      "The word graphite appears in Chernobyl_Episode-3Open-Wide-O-Earth a total of 2 times\n",
      "The word chain appears in Chernobyl_Episode-3Open-Wide-O-Earth a total of 1 times\n",
      "\n",
      "The word Comrade appears in Chernobyl_Episode-4The-Happiness-Of-All-Mankind a total of 4 times\n",
      "The word roentgen appears in Chernobyl_Episode-4The-Happiness-Of-All-Mankind a total of 9 times\n",
      "The word RBMK appears in Chernobyl_Episode-4The-Happiness-Of-All-Mankind a total of 4 times\n",
      "The word lies appears in Chernobyl_Episode-4The-Happiness-Of-All-Mankind a total of 3 times\n",
      "The word core appears in Chernobyl_Episode-4The-Happiness-Of-All-Mankind a total of 4 times\n",
      "The word Soviet appears in Chernobyl_Episode-4The-Happiness-Of-All-Mankind a total of 11 times\n",
      "The word graphite appears in Chernobyl_Episode-4The-Happiness-Of-All-Mankind a total of 13 times\n",
      "The word chain appears in Chernobyl_Episode-4The-Happiness-Of-All-Mankind a total of 0 times\n",
      "\n",
      "The word Comrade appears in Chernobyl_Episode-5Vichnaya-Pamyat a total of 24 times\n",
      "The word roentgen appears in Chernobyl_Episode-5Vichnaya-Pamyat a total of 0 times\n",
      "The word RBMK appears in Chernobyl_Episode-5Vichnaya-Pamyat a total of 4 times\n",
      "The word lies appears in Chernobyl_Episode-5Vichnaya-Pamyat a total of 4 times\n",
      "The word core appears in Chernobyl_Episode-5Vichnaya-Pamyat a total of 18 times\n",
      "The word Soviet appears in Chernobyl_Episode-5Vichnaya-Pamyat a total of 20 times\n",
      "The word graphite appears in Chernobyl_Episode-5Vichnaya-Pamyat a total of 4 times\n",
      "The word chain appears in Chernobyl_Episode-5Vichnaya-Pamyat a total of 2 times\n",
      "\n",
      "The total elapsed time for the Naive Algorithm is 74.46 ms\n"
     ]
    }
   ],
   "source": [
    "BoyerMoore_Chernoby_DF = pd.DataFrame() # Calling the Dataframe Constructor. One of the weirder DF names might I add\n",
    "\n",
    "for episode,episode__name in zip(text_list,episode_name): #iterating through the episode text file, and episode name simultaneously\n",
    "    start_time = time.time()\n",
    "    word_count = []\n",
    "    for word in Chernobyl_phrases: #For each episode check each word\n",
    "        occurrences = boyer_moore_search(episode, word) # Implement the Boyer Moore algorithm\n",
    "        print(f'The word {word} appears in {episode__name} a total of {len(occurrences)} times') #Print our results to be sure the make sense\n",
    "        word_count.append(len(occurrences))\n",
    "    BoyerMoore_Chernoby_DF[episode__name[19:]] = word_count\n",
    "    print('')\n",
    "    end_time = time.time()\n",
    "BoyerMoore_Chernoby_DF.index = Chernobyl_phrases\n",
    "print(f'The total elapsed time for the Naive Algorithm is {round((end_time - start_time)*1000, 2)} ms') #Printing out our total time taken"
   ]
  },
  {
   "cell_type": "code",
   "execution_count": 19,
   "id": "80434f98-b8be-4b9a-b94d-69635655fada",
   "metadata": {},
   "outputs": [
    {
     "data": {
      "text/html": [
       "<div>\n",
       "<style scoped>\n",
       "    .dataframe tbody tr th:only-of-type {\n",
       "        vertical-align: middle;\n",
       "    }\n",
       "\n",
       "    .dataframe tbody tr th {\n",
       "        vertical-align: top;\n",
       "    }\n",
       "\n",
       "    .dataframe thead th {\n",
       "        text-align: right;\n",
       "    }\n",
       "</style>\n",
       "<table border=\"1\" class=\"dataframe\">\n",
       "  <thead>\n",
       "    <tr style=\"text-align: right;\">\n",
       "      <th></th>\n",
       "      <th>1_23_45</th>\n",
       "      <th>Please-Remain-Calm</th>\n",
       "      <th>Open-Wide-O-Earth</th>\n",
       "      <th>The-Happiness-Of-All-Mankind</th>\n",
       "      <th>Vichnaya-Pamyat</th>\n",
       "    </tr>\n",
       "  </thead>\n",
       "  <tbody>\n",
       "    <tr>\n",
       "      <th>Comrade</th>\n",
       "      <td>6</td>\n",
       "      <td>9</td>\n",
       "      <td>12</td>\n",
       "      <td>4</td>\n",
       "      <td>24</td>\n",
       "    </tr>\n",
       "    <tr>\n",
       "      <th>roentgen</th>\n",
       "      <td>8</td>\n",
       "      <td>6</td>\n",
       "      <td>0</td>\n",
       "      <td>9</td>\n",
       "      <td>0</td>\n",
       "    </tr>\n",
       "    <tr>\n",
       "      <th>RBMK</th>\n",
       "      <td>4</td>\n",
       "      <td>3</td>\n",
       "      <td>1</td>\n",
       "      <td>4</td>\n",
       "      <td>4</td>\n",
       "    </tr>\n",
       "    <tr>\n",
       "      <th>lies</th>\n",
       "      <td>2</td>\n",
       "      <td>1</td>\n",
       "      <td>5</td>\n",
       "      <td>3</td>\n",
       "      <td>4</td>\n",
       "    </tr>\n",
       "    <tr>\n",
       "      <th>core</th>\n",
       "      <td>21</td>\n",
       "      <td>20</td>\n",
       "      <td>5</td>\n",
       "      <td>4</td>\n",
       "      <td>18</td>\n",
       "    </tr>\n",
       "    <tr>\n",
       "      <th>Soviet</th>\n",
       "      <td>6</td>\n",
       "      <td>21</td>\n",
       "      <td>6</td>\n",
       "      <td>11</td>\n",
       "      <td>20</td>\n",
       "    </tr>\n",
       "    <tr>\n",
       "      <th>graphite</th>\n",
       "      <td>5</td>\n",
       "      <td>11</td>\n",
       "      <td>2</td>\n",
       "      <td>13</td>\n",
       "      <td>4</td>\n",
       "    </tr>\n",
       "    <tr>\n",
       "      <th>chain</th>\n",
       "      <td>0</td>\n",
       "      <td>5</td>\n",
       "      <td>1</td>\n",
       "      <td>0</td>\n",
       "      <td>2</td>\n",
       "    </tr>\n",
       "  </tbody>\n",
       "</table>\n",
       "</div>"
      ],
      "text/plain": [
       "          1_23_45  Please-Remain-Calm  Open-Wide-O-Earth  \\\n",
       "Comrade         6                   9                 12   \n",
       "roentgen        8                   6                  0   \n",
       "RBMK            4                   3                  1   \n",
       "lies            2                   1                  5   \n",
       "core           21                  20                  5   \n",
       "Soviet          6                  21                  6   \n",
       "graphite        5                  11                  2   \n",
       "chain           0                   5                  1   \n",
       "\n",
       "          The-Happiness-Of-All-Mankind  Vichnaya-Pamyat  \n",
       "Comrade                              4               24  \n",
       "roentgen                             9                0  \n",
       "RBMK                                 4                4  \n",
       "lies                                 3                4  \n",
       "core                                 4               18  \n",
       "Soviet                              11               20  \n",
       "graphite                            13                4  \n",
       "chain                                0                2  "
      ]
     },
     "execution_count": 19,
     "metadata": {},
     "output_type": "execute_result"
    }
   ],
   "source": [
    "BoyerMoore_Chernoby_DF"
   ]
  },
  {
   "cell_type": "markdown",
   "id": "5e88b90d-a061-4309-8a9f-09ed62426737",
   "metadata": {},
   "source": [
    "We effectively halved the runtime here, going from ~150 ms in the Naive approach to ~75 ms here. Wowzers. \n",
    "\n",
    "The runtime complexity here depends on a few factors, the main one being if the pattern actually exists within the text. If it does not, imagine the pattern will shift *len(pattern)* each time. Therefore for a text/corpus of length n we'd have a runtime complexity of $O(n/len(pattern))$. \n",
    "\n",
    "Imagine a text that read *AAAAAAAAAAAAAAAAAAAAAAAAAAAAAAAAAAAAAAAAAAAAAA*, which we were searching through for a pattern *XYZA*. That final character would match every time, but nothing else. The entire pattern would still be checked in the bad _character mismatch table. This would lead to a runtime complexity of $O(m*n)$"
   ]
  },
  {
   "cell_type": "markdown",
   "id": "5cbe8ef0-e022-4185-8f29-b082ab2d669e",
   "metadata": {},
   "source": [
    "## KMP Algorithm"
   ]
  },
  {
   "cell_type": "markdown",
   "id": "b83debe0-d200-4412-82b4-bbb3d47a948d",
   "metadata": {},
   "source": [
    "The Knuth-Morris-Pratt (KMP) algorithm efficiently searches for occurrences of a pattern within a text by utilizing a partial match table. This table is preprocessed from the pattern to determine the longest proper prefix of each prefix that is also a suffix. \n",
    "\n",
    "During the search process, the algorithm compares characters of the text with characters of the pattern from left to right. When a mismatch occurs, the algorithm utilizes the partial match table to determine how many characters can be safely skipped in the pattern without missing a potential match in the text. This is similar to the Boyer Moore algorithm using the bad_character table to see how many string characters could be skipped. \n",
    "\n",
    "By avoiding unnecessary comparisons and backtracking, the KMP algorithm achieves improved efficiency in string searching, making it highly suitable for large texts and patterns."
   ]
  },
  {
   "cell_type": "code",
   "execution_count": 20,
   "id": "1cc48659-4a9d-4230-b667-57b8a78623c3",
   "metadata": {},
   "outputs": [],
   "source": [
    "def compute_partial_match_table(pattern):\n",
    "    table = [0] * len(pattern) # initialising a 1D array of 0s\n",
    "    i, j = 0, 1 # \n",
    "    while j < len(pattern): \n",
    "        if pattern[i] == pattern[j]: # if both elements are equivalent, assign table value of j equal to i and increment both counters\n",
    "            i += 1\n",
    "            table[j] = i\n",
    "            j += 1\n",
    "        else:\n",
    "            if i != 0: #if i is non-zero reassign its value to the previous tables value\n",
    "                i = table[i - 1]\n",
    "            else:\n",
    "                table[j] = 0 #final worst case, if i is 0 and i != j, increment j only after setting it's partial match table value to 0\n",
    "                j += 1\n",
    "      #  print(table)\n",
    "    return table\n"
   ]
  },
  {
   "cell_type": "code",
   "execution_count": 21,
   "id": "9b430877-74fd-484f-9c4f-e38e76177c85",
   "metadata": {},
   "outputs": [
    {
     "data": {
      "text/plain": [
       "[0, 0, 1, 2, 0]"
      ]
     },
     "execution_count": 21,
     "metadata": {},
     "output_type": "execute_result"
    }
   ],
   "source": [
    "compute_partial_match_table('ababd')"
   ]
  },
  {
   "cell_type": "code",
   "execution_count": 27,
   "id": "7ab5ea05-ce41-4748-9350-56b1f23ea36b",
   "metadata": {},
   "outputs": [],
   "source": [
    "def kmp_search(text, pattern):\n",
    "    indices = []\n",
    "    if not pattern:\n",
    "        return indices # if the pattern is empty return an empty list\n",
    "    partial_match_table = compute_partial_match_table(pattern) # create the failure function for this pattern\n",
    "    i, j = 0, 0 # two pointers, one to monitor the text, one to monitor the pattern\n",
    "    while i < len(text): # increment i through the text\n",
    "        if text[i] == pattern[j]:\n",
    "            i += 1\n",
    "            j += 1\n",
    "            if j == len(pattern): # if the first element of pattern matches element i in table, increment. If j = len(pattern) you've a match, add the\n",
    "                indices.append(i - j)# initial index \n",
    "                j = partial_match_table[j - 1] # set j to the final value in the partial match table\n",
    "        else:\n",
    "            if j != 0: # if j has not been reset to 0, set it to its corresponding failure function value. Then repeat the text[i] = pattern[j] check\n",
    "                j = partial_match_table[j - 1]\n",
    "            else:\n",
    "                i += 1 # if all else fails increment i \n",
    "    return indices"
   ]
  },
  {
   "cell_type": "code",
   "execution_count": 28,
   "id": "f44658b2-bba7-4692-a28a-8c5bd63ad9e1",
   "metadata": {},
   "outputs": [
    {
     "name": "stdout",
     "output_type": "stream",
     "text": [
      "Pattern found at indices: [0, 2, 4, 9, 11, 13, 15, 17, 19, 21, 23, 25, 27, 32]\n"
     ]
    }
   ],
   "source": [
    "text = \"ABABABABCABABABABABABABABABABABCABAB\"\n",
    "pattern = \"ABAB\"\n",
    "occurrences = kmp_search(text, pattern)\n",
    "if occurrences:\n",
    "    print(\"Pattern found at indices:\", occurrences)\n",
    "else:\n",
    "    print(\"Pattern not found in the text.\")"
   ]
  },
  {
   "cell_type": "code",
   "execution_count": 30,
   "id": "ec0d30d3-68ae-4f00-b9b2-a0d9f8536b23",
   "metadata": {},
   "outputs": [
    {
     "name": "stdout",
     "output_type": "stream",
     "text": [
      "The total elapsed time for the Naive Algorithm is 170.47 ms\n"
     ]
    }
   ],
   "source": [
    "KMP_Chernoby_DF = pd.DataFrame() # Calling the Dataframe Constructor. One of the weirder DF names might I add\n",
    "\n",
    "for episode,episode__name in zip(text_list,episode_name): #iterating through the episode text file, and episode name simultaneously\n",
    "    start_time = time.time()\n",
    "    word_count = []\n",
    "    for word in Chernobyl_phrases: #For each episode check each word\n",
    "        occurrences = kmp_search(episode, word) # Implement the Boyer Moore algorithm\n",
    "        #print(f'The word {word} appears in {episode__name} a total of {len(occurrences)} times') #Print our results to be sure the make sense\n",
    "        word_count.append(len(occurrences))\n",
    "    KMP_Chernoby_DF[episode__name[19:]] = word_count\n",
    "    end_time = time.time()\n",
    "KMP_Chernoby_DF.index = Chernobyl_phrases\n",
    "print(f'The total elapsed time for the Naive Algorithm is {round((end_time - start_time)*1000, 2)} ms') #Printing out our total time taken"
   ]
  },
  {
   "cell_type": "markdown",
   "id": "92623e37-d2b1-45c3-b421-bc8fa6d9b9f2",
   "metadata": {},
   "source": [
    "This one acc took a bit longer than the Naive method. This makes sense, as the words we're actually looking for don't have any prefixes in them to match suffixes. Therefore their failure function is going to be just lists of 0 values. Resulting in basically a Naive search anyway. See below:"
   ]
  },
  {
   "cell_type": "code",
   "execution_count": 31,
   "id": "32f14c6c-43ae-4ec4-b402-8321e336186f",
   "metadata": {},
   "outputs": [
    {
     "name": "stdout",
     "output_type": "stream",
     "text": [
      "[0, 0, 0, 0, 0, 0, 0]\n",
      "[0, 0, 0, 0, 0, 0, 0, 0]\n",
      "[0, 0, 0, 0]\n",
      "[0, 0, 0, 0]\n",
      "[0, 0, 0, 0]\n",
      "[0, 0, 0, 0, 0, 0]\n",
      "[0, 0, 0, 0, 0, 0, 0, 0]\n",
      "[0, 0, 0, 0, 0]\n"
     ]
    }
   ],
   "source": [
    "for word in Chernobyl_phrases:\n",
    "    print(compute_partial_match_table(word))"
   ]
  },
  {
   "cell_type": "markdown",
   "id": "92ac089f-379a-43d8-8d15-55c6d1c8f8d2",
   "metadata": {},
   "source": [
    "Not great, not terrible."
   ]
  },
  {
   "cell_type": "markdown",
   "id": "0f8f4697-7de6-4f5c-b5cc-811d0c058f54",
   "metadata": {},
   "source": [
    "# Dynamic Programming "
   ]
  },
  {
   "cell_type": "markdown",
   "id": "7cf7f015-f54a-4fed-a50e-087a76091614",
   "metadata": {},
   "source": [
    "Dynamic programming is a problem-solving technique that efficiently solves complex problems by breaking them down into simpler subproblems. It relies on two key principles: optimal substructure and overlapping subproblems.\n",
    "\n",
    "Optimal substructure means that the optimal solution to the overall problem can be constructed from the optimal solutions of its subproblems. \n",
    "\n",
    "Overlapping subproblems occur when the same subproblems are encountered multiple times during the computation. Dynamic programming addresses this by storing and reusing solutions to subproblems, either through memoization or tabulation. \n",
    "\n",
    "Memoization involves storing the results of function calls and retrieving them when the same inputs occur again. \n",
    "Solutions to subproblems are recursively computed and stored in a table or cache \r\n",
    "Memoization is suited for problems with overlapping subproblems and is used in a top-down approac\n",
    "\n",
    "Tabulation involves solving subproblems iteratively and storing the results in a table, usually in a bottom-up manner. \n",
    "Unlike memoization, it doesn't require recursive function calls and starts with the simplest subproblems\n",
    "h.\n",
    "\n",
    "This approach is particularly useful for problems with overlapping subproblems, such as the Knapsack problem and longest common subsequence problems. Overall, dynamic programming enables significant performance improvements by efficiently solving subproblems and avoiding redundant computations."
   ]
  },
  {
   "cell_type": "markdown",
   "id": "47299325-83bf-4eea-bad1-04574d054cad",
   "metadata": {},
   "source": [
    "## Knapsack Problem "
   ]
  },
  {
   "cell_type": "markdown",
   "id": "fbbb0abe-7939-4d60-ab2b-4d7e765eed10",
   "metadata": {},
   "source": [
    "The Knapsack problem is a classic optimization problem in computer science and combinatorial optimization. It derives its name from the scenario of a burglar who must fill a knapsack with the most valuable items without exceeding its weight capacity.\r\n",
    "\r\n",
    "The problem statement involves a set of items, each with a weight and a value. The goal is to determine the subset of items to include in the knapsack that maximizes the total value, while ensuring that the total weight does not exceed a given capacityts.\r\n",
    "\r\n",
    "Due to its practical relevance and computational complexity, the Knapsack problem has been extensively studied and has applications in various fields, including resource allocation, finance, and logistics. It serves as a fundamental problem in algorithm design and optimization."
   ]
  },
  {
   "cell_type": "markdown",
   "id": "dc53ee0c-dbee-4397-bb69-a63c6f32f992",
   "metadata": {},
   "source": [
    "So we're going to solve the Knapsack problem initially through a brute force approach, and subsequently using a Dynamic Programming approach. We'll check the computation time difference between the two then. \n",
    "\n",
    "So, our problem is: We've broken into McDonalds. We're hungry after a night out, and we thought who better to get food from than a corporate conglomerate. However, we're also training for an Ironman so we need to maximise our calorie intake for fuel (Profit). The caveat here is we're after losing our belt on the dancefloor, so we can only take a  certain amount of weight before our pants fall off making our getaway nigh on impossible (weight limitation). We'll say our weight limit is 8kg. The pants are a good fit, but not built for Grand Theft Eurosaver. "
   ]
  },
  {
   "cell_type": "code",
   "execution_count": 51,
   "id": "5dccdfc0-6f9b-4a40-a3eb-ce0f896142cf",
   "metadata": {},
   "outputs": [],
   "source": [
    "pants_weight_bearing_capacity = 12\n",
    "calorie_vals = [300,600,1500,1800,2100,2500,3000]\n",
    "weight_vals = [2,3,4,5,6,8,9]\n",
    "eurosaver_dict = {\n",
    "1: 'McNuggets (6 Pack)',\n",
    "2: 'McFlurry + McNuggets combo',\n",
    "3: 'Happy Meal with some Cheesy Fries',\n",
    "4: 'Trible Double Quarter Pounder Burger',\n",
    "5: 'Two Half pounders stuck together with some sellotape',\n",
    "6: 'A deep fried pair of wellies with a Diet Coke',\n",
    "7: 'Ronald McDonald himself'\n",
    "}"
   ]
  },
  {
   "cell_type": "code",
   "execution_count": 58,
   "id": "ba19fed4-89bf-4065-aa24-af953499b20d",
   "metadata": {},
   "outputs": [],
   "source": [
    "import timeit\n",
    "def knapsack_brute_force(values, weights, capacity):\n",
    "    start_time = timeit.default_timer() # initialising our start time, number of calculations\n",
    "    n = len(values)\n",
    "    max_value = 0 # and the maximum # of calories we can  get without our pants falling off\n",
    "    selected_items = []\n",
    "\n",
    "    # Generate all possible subsets of items\n",
    "    for i in range(2**n): #Here we iterate from 0 to 2^[n} - 1\n",
    "        total_weight = 0\n",
    "        total_value = 0 #these values are reinitialised for every permutation\n",
    "        subset = []\n",
    "\n",
    "        for j in range(n):\n",
    "            if (i >> j) & 1: # in this inner loop, we do a bit-by-bit analysis of the i value. We shift i's bits right by 1, and then check if the \n",
    "                #final bit is equal to 1. if so we add total weight/value. Note this is done for j = 0,1,2,..n. So end up shifting i by its entireity \n",
    "                #by the end of the loop\n",
    "                total_weight += weights[j]\n",
    "                total_value += values[j]\n",
    "                subset.append(j)\n",
    "\n",
    "        # Check if the subset is feasible and update the maximum value\n",
    "        if total_weight <= capacity and total_value > max_value:\n",
    "            max_value = total_value #Here we constantly check if we've gotten a max combination, and reassign it if it exceeds the last max value\n",
    "            selected_items = subset.copy()\n",
    "            max_weight = total_weight\n",
    "    \n",
    "    end_time = timeit.default_timer()\n",
    "    duration  = round((end_time - start_time),5)*1e6\n",
    "    print(f'Duration is {duration}', 'ms')\n",
    "    items = [eurosaver_dict[item] for item in selected_items]\n",
    "    return max_value, items, max_weight"
   ]
  },
  {
   "cell_type": "code",
   "execution_count": 59,
   "id": "d57bbd57-5eae-4b6b-a3a2-16bf5723296c",
   "metadata": {},
   "outputs": [
    {
     "name": "stdout",
     "output_type": "stream",
     "text": [
      "Duration is 330.0 ms\n",
      "Maximum Calorie Intake (brute force): 4000\n",
      "Selected items (brute force): ['McFlurry + McNuggets combo', 'Two Half pounders stuck together with some sellotape']\n",
      "Weight (brute force): 12 kg\n"
     ]
    }
   ],
   "source": [
    "max_value, selected_items, total_weight = knapsack_brute_force(calorie_vals, weight_vals, pants_weight_bearing_capacity)\n",
    "print(\"Maximum Calorie Intake (brute force):\", max_value)\n",
    "print(\"Selected items (brute force):\", selected_items)\n",
    "print(\"Weight (brute force):\", total_weight, 'kg')"
   ]
  },
  {
   "cell_type": "markdown",
   "id": "66e910d0-6d69-4913-bfea-da2a686e93e1",
   "metadata": {},
   "source": [
    "Woah guys, we got some nice food, and our pants are safe. It took us 330ms. That's awesome. I just want to show the bitwise analysis of the inner loop in each iteration more specifically."
   ]
  },
  {
   "cell_type": "code",
   "execution_count": 64,
   "id": "31663c09-cc5a-411e-890c-7b18865ee63b",
   "metadata": {},
   "outputs": [
    {
     "name": "stdout",
     "output_type": "stream",
     "text": [
      "The number is:  0  which has a binary representation of:  0000\n",
      "For a j of:  0 i's representation is now 0\n",
      "For a j of:  1 i's representation is now 0\n",
      "For a j of:  2 i's representation is now 0\n",
      "For a j of:  3 i's representation is now 0\n",
      "The number is:  1  which has a binary representation of:  0001\n",
      "For a j of:  0 i's representation is now 1\n",
      "For a j of:  1 i's representation is now 0\n",
      "For a j of:  2 i's representation is now 0\n",
      "For a j of:  3 i's representation is now 0\n",
      "The number is:  2  which has a binary representation of:  0010\n",
      "For a j of:  0 i's representation is now 0\n",
      "For a j of:  1 i's representation is now 1\n",
      "For a j of:  2 i's representation is now 0\n",
      "For a j of:  3 i's representation is now 0\n",
      "The number is:  3  which has a binary representation of:  0011\n",
      "For a j of:  0 i's representation is now 1\n",
      "For a j of:  1 i's representation is now 1\n",
      "For a j of:  2 i's representation is now 0\n",
      "For a j of:  3 i's representation is now 0\n",
      "The number is:  4  which has a binary representation of:  0100\n",
      "For a j of:  0 i's representation is now 0\n",
      "For a j of:  1 i's representation is now 0\n",
      "For a j of:  2 i's representation is now 1\n",
      "For a j of:  3 i's representation is now 0\n",
      "The number is:  5  which has a binary representation of:  0101\n",
      "For a j of:  0 i's representation is now 1\n",
      "For a j of:  1 i's representation is now 0\n",
      "For a j of:  2 i's representation is now 1\n",
      "For a j of:  3 i's representation is now 0\n",
      "The number is:  6  which has a binary representation of:  0110\n",
      "For a j of:  0 i's representation is now 0\n",
      "For a j of:  1 i's representation is now 1\n",
      "For a j of:  2 i's representation is now 1\n",
      "For a j of:  3 i's representation is now 0\n",
      "The number is:  7  which has a binary representation of:  0111\n",
      "For a j of:  0 i's representation is now 1\n",
      "For a j of:  1 i's representation is now 1\n",
      "For a j of:  2 i's representation is now 1\n",
      "For a j of:  3 i's representation is now 0\n",
      "The number is:  8  which has a binary representation of:  1000\n",
      "For a j of:  0 i's representation is now 0\n",
      "For a j of:  1 i's representation is now 0\n",
      "For a j of:  2 i's representation is now 0\n",
      "For a j of:  3 i's representation is now 1\n",
      "The number is:  9  which has a binary representation of:  1001\n",
      "For a j of:  0 i's representation is now 1\n",
      "For a j of:  1 i's representation is now 0\n",
      "For a j of:  2 i's representation is now 0\n",
      "For a j of:  3 i's representation is now 1\n",
      "The number is:  10  which has a binary representation of:  1010\n",
      "For a j of:  0 i's representation is now 0\n",
      "For a j of:  1 i's representation is now 1\n",
      "For a j of:  2 i's representation is now 0\n",
      "For a j of:  3 i's representation is now 1\n",
      "The number is:  11  which has a binary representation of:  1011\n",
      "For a j of:  0 i's representation is now 1\n",
      "For a j of:  1 i's representation is now 1\n",
      "For a j of:  2 i's representation is now 0\n",
      "For a j of:  3 i's representation is now 1\n",
      "The number is:  12  which has a binary representation of:  1100\n",
      "For a j of:  0 i's representation is now 0\n",
      "For a j of:  1 i's representation is now 0\n",
      "For a j of:  2 i's representation is now 1\n",
      "For a j of:  3 i's representation is now 1\n",
      "The number is:  13  which has a binary representation of:  1101\n",
      "For a j of:  0 i's representation is now 1\n",
      "For a j of:  1 i's representation is now 0\n",
      "For a j of:  2 i's representation is now 1\n",
      "For a j of:  3 i's representation is now 1\n",
      "The number is:  14  which has a binary representation of:  1110\n",
      "For a j of:  0 i's representation is now 0\n",
      "For a j of:  1 i's representation is now 1\n",
      "For a j of:  2 i's representation is now 1\n",
      "For a j of:  3 i's representation is now 1\n",
      "The number is:  15  which has a binary representation of:  1111\n",
      "For a j of:  0 i's representation is now 1\n",
      "For a j of:  1 i's representation is now 1\n",
      "For a j of:  2 i's representation is now 1\n",
      "For a j of:  3 i's representation is now 1\n"
     ]
    }
   ],
   "source": [
    "# Define a function to convert a number to its binary representation\n",
    "def to_binary(number):\n",
    "    binary = '{:04b}'.format(number) \n",
    "    return binary\n",
    "\n",
    "# Generate all possible subsets of items\n",
    "for i in range(2**4): #Here we iterate from 0 to 2^[n} - 1\n",
    "    print('The number is: ', i, ' which has a binary representation of: ', to_binary(i)) \n",
    "    for j in range(4):\n",
    "        print('For a j of: ', j, \"i's representation is now\", ((i>>j) & 1))"
   ]
  },
  {
   "cell_type": "markdown",
   "id": "d3d3cbad-169b-4b23-bb3e-d70d355b8829",
   "metadata": {},
   "source": [
    "See how in the above, we had 16 possible combinations. This 16 was arbitrary, just imagine we had an array of length 4 therefore $2^{4} = 16$. These values 0 to 15, are then converted to 4 byte binary. Depending on what element in that representation is 1, we then chose those elements from the weights and costs in the original loop. This method is clever in the sense that by switching to 4 byte binary we represent every possible combination of a binary 4 digit array. However it is not clever in the sense that we're not using Dynamic Programming. "
   ]
  },
  {
   "cell_type": "markdown",
   "id": "ee512cbc-e501-4130-a9b3-1035c47a3c4c",
   "metadata": {},
   "source": [
    "This method has a runtime complxity of $O(2^{n} * n)$. This is quite bad, and is due to the fact that for the $2^{n}$ combinations, we must check the weight/profit summations of n values. \n",
    "\n",
    "Enough babbling. Let's get to the Knapsack Method."
   ]
  },
  {
   "cell_type": "markdown",
   "id": "e4eb997a-3c17-4354-af26-f18b7b658aa5",
   "metadata": {},
   "source": [
    "### Dynamic Approach"
   ]
  },
  {
   "cell_type": "code",
   "execution_count": 74,
   "id": "a9698ab1-8373-43bd-9813-1a62e6743ba0",
   "metadata": {},
   "outputs": [],
   "source": [
    "def knapsack_01(values, weights, capacity):\n",
    "    start_time = timeit.default_timer()\n",
    "    n = len(values)\n",
    "    # Initialize a table of all 0's to store the maximum value for different combinations of items and capacities\n",
    "    dp = [[0] * (capacity + 1) for _ in range(n + 1)]\n",
    "    #This table is a grid of items versus max weight at each possible weight value up to the capacity. It's easier to visualise in the printed tables\n",
    "    for i in dp:\n",
    "        print(i)\n",
    "    # Build the table iteratively, moving down through each row, and subsequently through each column using a nested loop\n",
    "    for i in range(1, n + 1):\n",
    "        print('')\n",
    "        for w in range(1, capacity + 1):# for a given row, iterate through the columns\n",
    "            if weights[i - 1] <= w:\n",
    "                # If the current weight column index exceeds the corresponding rows weight value, we assign the max value from the below to the table\n",
    "                # This is the max of the previous rows column value, the profit corresponding to that row plus a table value (which Im not sure of the significance of?) \n",
    "                dp[i][w] = max(dp[i - 1][w], values[i - 1] + dp[i - 1][w - weights[i - 1]])\n",
    "            else:\n",
    "                # If the current item cannot be included, use the value from the previous row\n",
    "                dp[i][w] = dp[i - 1][w]\n",
    "        for i in dp:\n",
    "            print(i)\n",
    "    # Trace back through the table to find the selected items\n",
    "    selected_items = []\n",
    "    i, w = n, capacity # setting these values = table dimensions so we start at bottom right (largest value)\n",
    "    while i > 0 and w > 0:\n",
    "        if dp[i][w] != dp[i - 1][w]: #If these columns val is different to the preceding row val for that column, we know something has been added\n",
    "            selected_items.append(i - 1) # which can only be the weight associated to the row. We use i - 1 as we added a row of 0's to the table initially\n",
    "            w -= weights[i - 1]\n",
    "        i -= 1 # go back a row and itereate the same check \n",
    "\n",
    "    end_time = timeit.default_timer()\n",
    "    duration  = round((end_time - start_time),5)*1e6\n",
    "    print(f'Duration is {duration}', 'ms')\n",
    "    # Return the maximum value and the indices of the selected items\n",
    "    return dp[n][capacity], selected_items\n"
   ]
  },
  {
   "cell_type": "code",
   "execution_count": 75,
   "id": "440c8551-30bf-429f-8e39-f050eb4cc5bb",
   "metadata": {},
   "outputs": [
    {
     "name": "stdout",
     "output_type": "stream",
     "text": [
      "[0, 0, 0, 0, 0, 0, 0, 0, 0]\n",
      "[0, 0, 0, 0, 0, 0, 0, 0, 0]\n",
      "[0, 0, 0, 0, 0, 0, 0, 0, 0]\n",
      "[0, 0, 0, 0, 0, 0, 0, 0, 0]\n",
      "[0, 0, 0, 0, 0, 0, 0, 0, 0]\n",
      "\n",
      "[0, 0, 0, 0, 0, 0, 0, 0, 0]\n",
      "[0, 0, 1, 1, 1, 1, 1, 1, 1]\n",
      "[0, 0, 0, 0, 0, 0, 0, 0, 0]\n",
      "[0, 0, 0, 0, 0, 0, 0, 0, 0]\n",
      "[0, 0, 0, 0, 0, 0, 0, 0, 0]\n",
      "\n",
      "[0, 0, 0, 0, 0, 0, 0, 0, 0]\n",
      "[0, 0, 1, 1, 1, 1, 1, 1, 1]\n",
      "[0, 0, 1, 2, 2, 3, 3, 3, 3]\n",
      "[0, 0, 0, 0, 0, 0, 0, 0, 0]\n",
      "[0, 0, 0, 0, 0, 0, 0, 0, 0]\n",
      "\n",
      "[0, 0, 0, 0, 0, 0, 0, 0, 0]\n",
      "[0, 0, 1, 1, 1, 1, 1, 1, 1]\n",
      "[0, 0, 1, 2, 2, 3, 3, 3, 3]\n",
      "[0, 0, 1, 2, 5, 5, 6, 7, 7]\n",
      "[0, 0, 0, 0, 0, 0, 0, 0, 0]\n",
      "\n",
      "[0, 0, 0, 0, 0, 0, 0, 0, 0]\n",
      "[0, 0, 1, 1, 1, 1, 1, 1, 1]\n",
      "[0, 0, 1, 2, 2, 3, 3, 3, 3]\n",
      "[0, 0, 1, 2, 5, 5, 6, 7, 7]\n",
      "[0, 0, 1, 2, 5, 6, 6, 7, 8]\n",
      "Duration is 460.0 ms\n"
     ]
    },
    {
     "data": {
      "text/plain": [
       "(8, [3, 1])"
      ]
     },
     "execution_count": 75,
     "metadata": {},
     "output_type": "execute_result"
    }
   ],
   "source": [
    "Profit = [1,2,5,6]\n",
    "Weight = [2,3,4,5]\n",
    "Max = 8\n",
    "knapsack_01(Profit,Weight,Max)"
   ]
  },
  {
   "cell_type": "markdown",
   "id": "d6dcbf60-2705-4d62-810f-207f23553882",
   "metadata": {},
   "source": [
    "This implementation provided is an example of tabulation in dynamic programming. Tabulation involves solving subproblems iteratively and storing the results in a table, typically in a bottom-up manner.\r\n",
    "\r\n",
    "In this implementation:\r\n",
    "\r\n",
    "1. We initialize a table (`dp`) to store the maximum value for different combinations of items and capacities.\r\n",
    "2. We iteratively fill in the table, considering each item and capacity combination.\r\n",
    "3. We use the values computed in previous iterations to compute the values for larger subproblems.\r\n",
    "4. Finally, we use the filled table to find the solution to the original problem.\r\n",
    "\r\n",
    "This approach avoids recursion and directly computes the solutions to all subproblems in a systematic manner, making it an example of tabulation in dynamic programming."
   ]
  },
  {
   "cell_type": "markdown",
   "id": "c3198cb5-86c9-468f-8c8d-99641aed4e45",
   "metadata": {},
   "source": [
    "The runtime complexity of the dynamic tabulation approach for the 0/1 Knapsack problem is $O(n.W)$, where $n$ is the number of items and $W$ is the capacity of the knapsack.\n",
    "\n",
    "Here's why:\n",
    "\n",
    "- We initialize a table $(dp)$ of size $n+1 \\times W+1$, where $n$ is the number of items and $W$ is the capacity of the knapsack. This takes $O(n.W)$ time and space.\n",
    "- We then fill in each cell of the table once, considering each item and each possible capacity. This requires iterating over all $n$ items and all $W$ capacities. Therefore, the time complexity of filling in the table is $O(n.W)$.\n",
    "- Finally, we trace back through the table to find the selected items. This step takes $O(n + W)$ time, as we iterate over $n$ items and a capacity that can range from 0 to $W$.\n",
    "\n",
    "Overall, the dynamic tabulation approach for the 0/1 Knapsack problem has a runtime complexity of $O(n.W)$. It is efficient for moderate-sized problem instances, but it can become impractical for very large values of $n$ and $W$."
   ]
  },
  {
   "cell_type": "markdown",
   "id": "0f6dbc0a-62b4-4059-8d83-b01502905bab",
   "metadata": {},
   "source": [
    "Let's check our McDonald's Thief and see how quick this method is compared to the brute force method. "
   ]
  },
  {
   "cell_type": "code",
   "execution_count": 77,
   "id": "254dcec4-69d0-4a60-81af-114d5ec731ea",
   "metadata": {},
   "outputs": [
    {
     "name": "stdout",
     "output_type": "stream",
     "text": [
      "[0, 0, 0, 0, 0, 0, 0, 0, 0, 0, 0, 0, 0]\n",
      "[0, 0, 0, 0, 0, 0, 0, 0, 0, 0, 0, 0, 0]\n",
      "[0, 0, 0, 0, 0, 0, 0, 0, 0, 0, 0, 0, 0]\n",
      "[0, 0, 0, 0, 0, 0, 0, 0, 0, 0, 0, 0, 0]\n",
      "[0, 0, 0, 0, 0, 0, 0, 0, 0, 0, 0, 0, 0]\n",
      "[0, 0, 0, 0, 0, 0, 0, 0, 0, 0, 0, 0, 0]\n",
      "[0, 0, 0, 0, 0, 0, 0, 0, 0, 0, 0, 0, 0]\n",
      "[0, 0, 0, 0, 0, 0, 0, 0, 0, 0, 0, 0, 0]\n",
      "\n",
      "[0, 0, 0, 0, 0, 0, 0, 0, 0, 0, 0, 0, 0]\n",
      "[0, 0, 300, 300, 300, 300, 300, 300, 300, 300, 300, 300, 300]\n",
      "[0, 0, 0, 0, 0, 0, 0, 0, 0, 0, 0, 0, 0]\n",
      "[0, 0, 0, 0, 0, 0, 0, 0, 0, 0, 0, 0, 0]\n",
      "[0, 0, 0, 0, 0, 0, 0, 0, 0, 0, 0, 0, 0]\n",
      "[0, 0, 0, 0, 0, 0, 0, 0, 0, 0, 0, 0, 0]\n",
      "[0, 0, 0, 0, 0, 0, 0, 0, 0, 0, 0, 0, 0]\n",
      "[0, 0, 0, 0, 0, 0, 0, 0, 0, 0, 0, 0, 0]\n",
      "\n",
      "[0, 0, 0, 0, 0, 0, 0, 0, 0, 0, 0, 0, 0]\n",
      "[0, 0, 300, 300, 300, 300, 300, 300, 300, 300, 300, 300, 300]\n",
      "[0, 0, 300, 600, 600, 900, 900, 900, 900, 900, 900, 900, 900]\n",
      "[0, 0, 0, 0, 0, 0, 0, 0, 0, 0, 0, 0, 0]\n",
      "[0, 0, 0, 0, 0, 0, 0, 0, 0, 0, 0, 0, 0]\n",
      "[0, 0, 0, 0, 0, 0, 0, 0, 0, 0, 0, 0, 0]\n",
      "[0, 0, 0, 0, 0, 0, 0, 0, 0, 0, 0, 0, 0]\n",
      "[0, 0, 0, 0, 0, 0, 0, 0, 0, 0, 0, 0, 0]\n",
      "\n",
      "[0, 0, 0, 0, 0, 0, 0, 0, 0, 0, 0, 0, 0]\n",
      "[0, 0, 300, 300, 300, 300, 300, 300, 300, 300, 300, 300, 300]\n",
      "[0, 0, 300, 600, 600, 900, 900, 900, 900, 900, 900, 900, 900]\n",
      "[0, 0, 300, 600, 1500, 1500, 1800, 2100, 2100, 2400, 2400, 2400, 2400]\n",
      "[0, 0, 0, 0, 0, 0, 0, 0, 0, 0, 0, 0, 0]\n",
      "[0, 0, 0, 0, 0, 0, 0, 0, 0, 0, 0, 0, 0]\n",
      "[0, 0, 0, 0, 0, 0, 0, 0, 0, 0, 0, 0, 0]\n",
      "[0, 0, 0, 0, 0, 0, 0, 0, 0, 0, 0, 0, 0]\n",
      "\n",
      "[0, 0, 0, 0, 0, 0, 0, 0, 0, 0, 0, 0, 0]\n",
      "[0, 0, 300, 300, 300, 300, 300, 300, 300, 300, 300, 300, 300]\n",
      "[0, 0, 300, 600, 600, 900, 900, 900, 900, 900, 900, 900, 900]\n",
      "[0, 0, 300, 600, 1500, 1500, 1800, 2100, 2100, 2400, 2400, 2400, 2400]\n",
      "[0, 0, 300, 600, 1500, 1800, 1800, 2100, 2400, 3300, 3300, 3600, 3900]\n",
      "[0, 0, 0, 0, 0, 0, 0, 0, 0, 0, 0, 0, 0]\n",
      "[0, 0, 0, 0, 0, 0, 0, 0, 0, 0, 0, 0, 0]\n",
      "[0, 0, 0, 0, 0, 0, 0, 0, 0, 0, 0, 0, 0]\n",
      "\n",
      "[0, 0, 0, 0, 0, 0, 0, 0, 0, 0, 0, 0, 0]\n",
      "[0, 0, 300, 300, 300, 300, 300, 300, 300, 300, 300, 300, 300]\n",
      "[0, 0, 300, 600, 600, 900, 900, 900, 900, 900, 900, 900, 900]\n",
      "[0, 0, 300, 600, 1500, 1500, 1800, 2100, 2100, 2400, 2400, 2400, 2400]\n",
      "[0, 0, 300, 600, 1500, 1800, 1800, 2100, 2400, 3300, 3300, 3600, 3900]\n",
      "[0, 0, 300, 600, 1500, 1800, 2100, 2100, 2400, 3300, 3600, 3900, 3900]\n",
      "[0, 0, 0, 0, 0, 0, 0, 0, 0, 0, 0, 0, 0]\n",
      "[0, 0, 0, 0, 0, 0, 0, 0, 0, 0, 0, 0, 0]\n",
      "\n",
      "[0, 0, 0, 0, 0, 0, 0, 0, 0, 0, 0, 0, 0]\n",
      "[0, 0, 300, 300, 300, 300, 300, 300, 300, 300, 300, 300, 300]\n",
      "[0, 0, 300, 600, 600, 900, 900, 900, 900, 900, 900, 900, 900]\n",
      "[0, 0, 300, 600, 1500, 1500, 1800, 2100, 2100, 2400, 2400, 2400, 2400]\n",
      "[0, 0, 300, 600, 1500, 1800, 1800, 2100, 2400, 3300, 3300, 3600, 3900]\n",
      "[0, 0, 300, 600, 1500, 1800, 2100, 2100, 2400, 3300, 3600, 3900, 3900]\n",
      "[0, 0, 300, 600, 1500, 1800, 2100, 2100, 2500, 3300, 3600, 3900, 4000]\n",
      "[0, 0, 0, 0, 0, 0, 0, 0, 0, 0, 0, 0, 0]\n",
      "\n",
      "[0, 0, 0, 0, 0, 0, 0, 0, 0, 0, 0, 0, 0]\n",
      "[0, 0, 300, 300, 300, 300, 300, 300, 300, 300, 300, 300, 300]\n",
      "[0, 0, 300, 600, 600, 900, 900, 900, 900, 900, 900, 900, 900]\n",
      "[0, 0, 300, 600, 1500, 1500, 1800, 2100, 2100, 2400, 2400, 2400, 2400]\n",
      "[0, 0, 300, 600, 1500, 1800, 1800, 2100, 2400, 3300, 3300, 3600, 3900]\n",
      "[0, 0, 300, 600, 1500, 1800, 2100, 2100, 2400, 3300, 3600, 3900, 3900]\n",
      "[0, 0, 300, 600, 1500, 1800, 2100, 2100, 2500, 3300, 3600, 3900, 4000]\n",
      "[0, 0, 300, 600, 1500, 1800, 2100, 2100, 2500, 3300, 3600, 3900, 4000]\n",
      "Duration is 810.0 ms\n",
      "Maximum Calorie Intake (brute force): 4000\n",
      "Selected items (brute force): [5, 2]\n"
     ]
    }
   ],
   "source": [
    "max_value, selected_items= knapsack_01(calorie_vals, weight_vals, pants_weight_bearing_capacity)\n",
    "print(\"Maximum Calorie Intake (brute force):\", max_value)\n",
    "print(\"Selected items (brute force):\", selected_items)"
   ]
  },
  {
   "cell_type": "markdown",
   "id": "033c98f0-36b4-4f5d-8383-fb50e5310f97",
   "metadata": {},
   "source": [
    "We got the same items alright, but took a bit longer, lets check how long it takes without printing the matrixes out "
   ]
  },
  {
   "cell_type": "code",
   "execution_count": 80,
   "id": "e1afbc48-e30d-4695-9e8e-9564f9ed61fa",
   "metadata": {},
   "outputs": [
    {
     "name": "stdout",
     "output_type": "stream",
     "text": [
      "Duration is 100.0 ms\n",
      "Maximum Calorie Intake (Dynamic Programming): 4000\n",
      "Selected items (Dynamic Programming): [5, 2]\n"
     ]
    }
   ],
   "source": [
    "def knapsack_02(values, weights, capacity):\n",
    "    start_time = timeit.default_timer()\n",
    "    n = len(values)\n",
    "    # Initialize a table of all 0's to store the maximum value for different combinations of items and capacities\n",
    "    dp = [[0] * (capacity + 1) for _ in range(n + 1)]\n",
    "    # Build the table iteratively, moving down through each row, and subsequently through each column using a nested loop\n",
    "    for i in range(1, n + 1):\n",
    "        for w in range(1, capacity + 1):# for a given row, iterate through the columns\n",
    "            if weights[i - 1] <= w:\n",
    "                # If the current weight column index exceeds the corresponding rows weight value, we assign the max value from the below to the table\n",
    "                # This is the max of the previous rows column value, the profit corresponding to that row plus a table value (which Im not sure of the significance of?) \n",
    "                dp[i][w] = max(dp[i - 1][w], values[i - 1] + dp[i - 1][w - weights[i - 1]])\n",
    "            else:\n",
    "                # If the current item cannot be included, use the value from the previous row\n",
    "                dp[i][w] = dp[i - 1][w]\n",
    "    # Trace back through the table to find the selected items\n",
    "    selected_items = []\n",
    "    i, w = n, capacity # setting these values = table dimensions so we start at bottom right (largest value)\n",
    "    while i > 0 and w > 0:\n",
    "        if dp[i][w] != dp[i - 1][w]: #If these columns val is different to the preceding row val for that column, we know something has been added\n",
    "            selected_items.append(i - 1) # which can only be the weight associated to the row. We use i - 1 as we added a row of 0's to the table initially\n",
    "            w -= weights[i - 1]\n",
    "        i -= 1 # go back a row and itereate the same check \n",
    "\n",
    "    end_time = timeit.default_timer()\n",
    "    duration  = round((end_time - start_time),5)*1e6\n",
    "    print(f'Duration is {duration}', 'ms')\n",
    "    # Return the maximum value and the indices of the selected items\n",
    "    return dp[n][capacity], selected_items\n",
    "\n",
    "max_value, selected_items= knapsack_02(calorie_vals, weight_vals, pants_weight_bearing_capacity)\n",
    "print(\"Maximum Calorie Intake (Dynamic Programming):\", max_value)\n",
    "print(\"Selected items (Dynamic Programming):\", selected_items)"
   ]
  },
  {
   "cell_type": "markdown",
   "id": "e5b29cd7-f6b2-45d3-ab81-fa51d98da429",
   "metadata": {},
   "source": [
    "Holy smokes, look at that, it's about 30 microseconds quicker for this small amount of data. Smashing stuff. Printing takes its toll apparently. "
   ]
  },
  {
   "cell_type": "markdown",
   "id": "977bf6c8-e1d5-4385-89b9-6cc740877c55",
   "metadata": {},
   "source": [
    "## Longest Common Subsequence"
   ]
  },
  {
   "cell_type": "markdown",
   "id": "acd1818f-795a-40d0-970e-84c374ccd412",
   "metadata": {},
   "source": [
    "The Longest Common Subsequence (LCS) problem is a classic problem in computer science, specifically in the field of dynamic programming. It involves finding the longest subsequence that is common to two given sequences (strings, arrays, etc.). A subsequence is a sequence that can be derived from another sequence by deleting some or no elements without changing the order of the remaining elements.\n",
    "\n",
    "I found the following video to be a great help in explaining the problem: https://www.youtube.com/watch?v=sSno9rV8Rhg\n",
    "\n",
    "Here's a brief explanation of the problem:\n",
    "\n",
    "- Given two sequences $X$ and $Y$, the goal is to find the length of the longest subsequence that is common to both sequences.\n",
    "- The subsequence does not necessarily have to be contiguous in the original sequences.\n",
    "- For example, given sequences $X = ABCBDAB $ and $Y = BDCAB$, the longest common subsequence is $BCAB$ with a length of 4.\n",
    "\n",
    "To solve the LCS problem, dynamic programming is often employed. The problem can be broken down into smaller subproblems, and the solutions to these subproblems can be used to construct the solution to the original problem. The dynamic programming approach typically involves constructing a table to store the lengths of the longest common subsequences for different prefixes of the input sequences. This table is typically of dimensions $m \\times n$ where m and n are the string lengths of the strings in question. \n",
    "\n",
    "Once the table is filled, the length of the LCS can be found in the bottom-right corner of the table. Additionally, the LCS itself can be reconstructed by tracing back through the table from the bottom-right corner."
   ]
  },
  {
   "cell_type": "code",
   "execution_count": 100,
   "id": "7f1865ed-76a0-4eca-bdb9-04f5ad2f7f46",
   "metadata": {},
   "outputs": [],
   "source": [
    "def longest_common_subsequence(X, Y): \n",
    "    m = len(X)\n",
    "    n = len(Y)\n",
    "\n",
    "    # Initialize a table to store the lengths of longest common subsequences\n",
    "    dp = [[0] * (n + 1) for _ in range(m + 1)] # Defining the grid to be (m+1) times (n+1) for a row and column of 0's\n",
    "    for row in dp:\n",
    "        print(row)\n",
    "    print(' ')\n",
    "    # Fill the table row by row, starting at row m + 1 and column n + 1\n",
    "    for i in range(1, m + 1):\n",
    "        for j in range(1, n + 1):\n",
    "            if X[i - 1] == Y[j - 1]: # If the corresponding string values match, set the value in grid = left upper diagonal + 1\n",
    "                dp[i][j] = dp[i - 1][j - 1] + 1\n",
    "            else:\n",
    "                dp[i][j] = max(dp[i - 1][j], dp[i][j - 1]) # If there isn't any match, set it to the max of the preceding row or column value above\n",
    "        for row in dp:\n",
    "            print(row)\n",
    "        print(' ')\n",
    "    \n",
    "    # Reconstruct the longest common subsequence, starting from the bottom right table value\n",
    "    lcs_length = dp[m][n]\n",
    "    lcs = []\n",
    "    i, j = m, n\n",
    "    while i > 0 and j > 0:\n",
    "        if X[i - 1] == Y[j - 1]:\n",
    "            lcs.append(X[i - 1]) # This is the reverse of the first condition within the inner loop\n",
    "            i -= 1 # Note that we only append at the base of a diagonal line, if you trace back the matrices below on pen and paper!\n",
    "            j -= 1\n",
    "        elif dp[i - 1][j] > dp[i][j - 1]:\n",
    "            i -= 1\n",
    "        else:\n",
    "            j -= 1\n",
    "\n",
    "    # Reverse the LCS to get the correct order, because we started at the final string character\n",
    "    lcs.reverse()\n",
    "\n",
    "    return lcs_length, ''.join(lcs)"
   ]
  },
  {
   "cell_type": "code",
   "execution_count": 101,
   "id": "fc3c3dc3-bac1-409e-824c-149b47ca863e",
   "metadata": {},
   "outputs": [
    {
     "name": "stdout",
     "output_type": "stream",
     "text": [
      "[0, 0, 0, 0, 0, 0]\n",
      "[0, 0, 0, 0, 0, 0]\n",
      "[0, 0, 0, 0, 0, 0]\n",
      "[0, 0, 0, 0, 0, 0]\n",
      "[0, 0, 0, 0, 0, 0]\n",
      "[0, 0, 0, 0, 0, 0]\n",
      "[0, 0, 0, 0, 0, 0]\n",
      "[0, 0, 0, 0, 0, 0]\n",
      " \n",
      "[0, 0, 0, 0, 0, 0]\n",
      "[0, 0, 0, 0, 1, 1]\n",
      "[0, 0, 0, 0, 0, 0]\n",
      "[0, 0, 0, 0, 0, 0]\n",
      "[0, 0, 0, 0, 0, 0]\n",
      "[0, 0, 0, 0, 0, 0]\n",
      "[0, 0, 0, 0, 0, 0]\n",
      "[0, 0, 0, 0, 0, 0]\n",
      " \n",
      "[0, 0, 0, 0, 0, 0]\n",
      "[0, 0, 0, 0, 1, 1]\n",
      "[0, 1, 1, 1, 1, 2]\n",
      "[0, 0, 0, 0, 0, 0]\n",
      "[0, 0, 0, 0, 0, 0]\n",
      "[0, 0, 0, 0, 0, 0]\n",
      "[0, 0, 0, 0, 0, 0]\n",
      "[0, 0, 0, 0, 0, 0]\n",
      " \n",
      "[0, 0, 0, 0, 0, 0]\n",
      "[0, 0, 0, 0, 1, 1]\n",
      "[0, 1, 1, 1, 1, 2]\n",
      "[0, 1, 1, 2, 2, 2]\n",
      "[0, 0, 0, 0, 0, 0]\n",
      "[0, 0, 0, 0, 0, 0]\n",
      "[0, 0, 0, 0, 0, 0]\n",
      "[0, 0, 0, 0, 0, 0]\n",
      " \n",
      "[0, 0, 0, 0, 0, 0]\n",
      "[0, 0, 0, 0, 1, 1]\n",
      "[0, 1, 1, 1, 1, 2]\n",
      "[0, 1, 1, 2, 2, 2]\n",
      "[0, 1, 1, 2, 2, 3]\n",
      "[0, 0, 0, 0, 0, 0]\n",
      "[0, 0, 0, 0, 0, 0]\n",
      "[0, 0, 0, 0, 0, 0]\n",
      " \n",
      "[0, 0, 0, 0, 0, 0]\n",
      "[0, 0, 0, 0, 1, 1]\n",
      "[0, 1, 1, 1, 1, 2]\n",
      "[0, 1, 1, 2, 2, 2]\n",
      "[0, 1, 1, 2, 2, 3]\n",
      "[0, 1, 2, 2, 2, 3]\n",
      "[0, 0, 0, 0, 0, 0]\n",
      "[0, 0, 0, 0, 0, 0]\n",
      " \n",
      "[0, 0, 0, 0, 0, 0]\n",
      "[0, 0, 0, 0, 1, 1]\n",
      "[0, 1, 1, 1, 1, 2]\n",
      "[0, 1, 1, 2, 2, 2]\n",
      "[0, 1, 1, 2, 2, 3]\n",
      "[0, 1, 2, 2, 2, 3]\n",
      "[0, 1, 2, 2, 3, 3]\n",
      "[0, 0, 0, 0, 0, 0]\n",
      " \n",
      "[0, 0, 0, 0, 0, 0]\n",
      "[0, 0, 0, 0, 1, 1]\n",
      "[0, 1, 1, 1, 1, 2]\n",
      "[0, 1, 1, 2, 2, 2]\n",
      "[0, 1, 1, 2, 2, 3]\n",
      "[0, 1, 2, 2, 2, 3]\n",
      "[0, 1, 2, 2, 3, 3]\n",
      "[0, 1, 2, 2, 3, 4]\n",
      " \n",
      "Length of Longest Common Subsequence: 4\n",
      "Longest Common Subsequence: BDAB\n"
     ]
    }
   ],
   "source": [
    "# Example usage:\n",
    "X = \"ABCBDAB\"\n",
    "Y = \"BDCAB\"\n",
    "length, lcs = longest_common_subsequence(X, Y)\n",
    "print(\"Length of Longest Common Subsequence:\", length)\n",
    "print(\"Longest Common Subsequence:\", lcs)"
   ]
  },
  {
   "cell_type": "markdown",
   "id": "cb37a8cf-8d8f-4aca-977c-3bb73fd651d0",
   "metadata": {},
   "source": [
    "# Multithreading to Multiply Matrices"
   ]
  },
  {
   "cell_type": "markdown",
   "id": "f2569a24-fe8c-491c-b96e-210de18a0046",
   "metadata": {},
   "source": [
    "Multithreading is a programming technique that enables multiple threads of execution to run concurrently within a single process. Each thread represents an independent flow of control capable of executing instructions independently. Multithreading improves performance and responsiveness by allowing tasks to be executed simultaneously on multiple CPU cores or logical processors. On my own laptop, I have 8 cores, with 16 Logical Processors. Multithreading in theory should allow my to execute 16 threads simultaneously. What is the difference between a CPU core and a Logical Processor I hear you hear me think. \n",
    "\n",
    "**CPU Cores:** A CPU core is a physical processing unit capable of executing instructions. Modern CPUs often have multiple cores, allowing them to execute multiple tasks simultaneously. Each core can execute instructions independently and in parallel with other cores.\n",
    "\n",
    "**Logical Processors:** A logical processor, also known as a hardware thread or a logical core, represents a virtual processing unit within a physical CPU core. Many modern CPUs use a technology called simultaneous multithreading (SMT), which allows a single physical core to act as multiple logical processors. Each logical processor can execute its own thread of instructions concurrently with other logical processors on the same core.\n",
    "\n",
    "**Thread:** A thread is a basic unit of execution within a process, representing a separate sequence of instructions that can run concurrently with other threads. Threads share the same memory space and resources within a process, allowing them to communicate and coordinate with each other. Threads are lightweight and efficient, making them useful for multitasking and parallel processing in software applications.\n",
    "\n",
    "Multithreading so essentially means executing these threads concurrently on seperate logical processors, in order to improve performance. How on earth could this improve performance I wonder?"
   ]
  },
  {
   "cell_type": "markdown",
   "id": "354ad853-5774-4d9c-b302-30f711277be7",
   "metadata": {},
   "source": [
    "Multithreading so essentially means executing these threads concurrently on seperate logical processors, in order to improve performance. How on earth could this improve performance I wonder?"
   ]
  },
  {
   "cell_type": "markdown",
   "id": "647d65ad-5a21-4374-902a-497af6b2e732",
   "metadata": {},
   "source": [
    "Multithreading is a programming technique that enables concurrent execution of multiple threads within the same process, enhancing performance and responsiveness by allowing tasks to run simultaneously. \n",
    "\n",
    "It leverages modern multi-core processors for efficient resource utilization, ensuring faster execution of tasks. By offloading heavy computations to separate threads, user interfaces remain smooth and interactive, even during background operations.\n",
    "\n",
    "Multithreading facilitates parallel execution of independent tasks, optimizing resource usage and speeding up overall processing, particularly in applications with parallelizable workloads like scientific simulations.\n",
    "\n",
    "So, can we use multithreading to our advantage, perhaps for matrix multiplication of some kind, and how would this work?"
   ]
  },
  {
   "cell_type": "markdown",
   "id": "22ccdcdc-1a33-4616-b6da-f2669c127dab",
   "metadata": {},
   "source": [
    "So we know for a matrix $A_{n,m}$, and a matrix $B_{m,k}$ the matrix product $C$, will be of size $C_{n,k}$, with each element $c \\in C$ being calculated by the following: $c_{i,j} = \\sum_{z = 1}^{n} a_{i}.b_{j}$. So essentially element $(0,0)$ within $C$ is calculated by obtaining the dot product of the row vector $a_{0}$ from $A$ and the column vector $b_{0}$ from $B$, and so on and so forth. \n",
    "\n",
    "However the thing is, all of these matrix elements $c_{i,j} \\in C$ can be calculated independant of one another, they only depend on the elements of $A$ and $B$, nothing to do with other elements of $C$. So, why don't we use a few of our logical processors to simultaneously calculate certain regions of the resultant matrix? We can see the time taken in comparison to a non-multithreaded example then and see what all the fuss is about!"
   ]
  },
  {
   "cell_type": "code",
   "execution_count": 108,
   "id": "6271342e-6151-407c-aa15-61e16618bbd5",
   "metadata": {},
   "outputs": [
    {
     "name": "stdout",
     "output_type": "stream",
     "text": [
      "[[2399. 2398. 2666. ... 2644. 2439. 2665.]\n",
      " [2362. 2377. 2572. ... 2648. 2471. 2725.]\n",
      " [2221. 2233. 2584. ... 2335. 2269. 2359.]\n",
      " ...\n",
      " [2333. 2364. 2602. ... 2572. 2325. 2713.]\n",
      " [2227. 2234. 2565. ... 2479. 2331. 2494.]\n",
      " [2221. 2232. 2448. ... 2355. 2342. 2432.]]\n",
      "Total time taken is 0.1111 s\n"
     ]
    }
   ],
   "source": [
    "# Define a function to compute a portion of the resulting matrix\n",
    "def compute_partial_result(A, B, result, start_row, end_row):\n",
    "    for i in range(start_row, end_row):\n",
    "        for j in range(B.shape[1]):\n",
    "            result[i][j] = np.dot(A[i], B[:, j])\n",
    "\n",
    "# Define the matrices\n",
    "A = np.random.randint(1, 10, size=(100, 100))\n",
    "B = np.random.randint(1, 10, size=(100, 100))\n",
    "result = np.zeros((A.shape[0], B.shape[1]))\n",
    "\n",
    "# Split the computation into multiple threads\n",
    "num_threads = 4\n",
    "threads = []\n",
    "rows_per_thread = A.shape[0] // num_threads # Each Logical Processor will calculate a quarter of the resultant Matrixes rows\n",
    "\n",
    "for i in range(num_threads):\n",
    "    start_time = time.time()\n",
    "    start_row = i * rows_per_thread # (0,1,2,3) * 25\n",
    "    end_row = (i + 1) * rows_per_thread if i < num_threads - 1 else A.shape[0] # (0,1,2) * 75 unless i = 3. Then set end_row as end of Matrix A\n",
    "    thread = threading.Thread(target=compute_partial_result, args=(A, B, result, start_row, end_row)) # Assign the partial result function & arguments to a thread\n",
    "    threads.append(thread) # append each thread object to a list\n",
    "    thread.start() #starts each thread\n",
    "\n",
    "# Wait for all threads to complete\n",
    "for thread in threads:\n",
    "    thread.join() # for each thread object created to finish execution\n",
    "    end_time = time.time()\n",
    "\n",
    "# Display the result\n",
    "print(result)\n",
    "print(f'Total time taken is {round((end_time - start_time),4)} s')"
   ]
  },
  {
   "cell_type": "code",
   "execution_count": 112,
   "id": "b7e892ce-b161-4dc0-95be-2d16621d43ed",
   "metadata": {},
   "outputs": [
    {
     "name": "stdout",
     "output_type": "stream",
     "text": [
      "Result of matrix multiplication:\n",
      "[[2399 2398 2666 ... 2644 2439 2665]\n",
      " [2362 2377 2572 ... 2648 2471 2725]\n",
      " [2221 2233 2584 ... 2335 2269 2359]\n",
      " ...\n",
      " [2333 2364 2602 ... 2572 2325 2713]\n",
      " [2227 2234 2565 ... 2479 2331 2494]\n",
      " [2221 2232 2448 ... 2355 2342 2432]]\n",
      "Total time taken is 0.0053 s\n"
     ]
    }
   ],
   "source": [
    "# Perform matrix multiplication\n",
    "start_time = time.time()\n",
    "result = np.dot(A, B)\n",
    "end_time = time.time()\n",
    "\n",
    "# Print the result\n",
    "print(\"Result of matrix multiplication:\")\n",
    "print(result)\n",
    "print(f'Total time taken is {round((end_time - start_time),4)} s')"
   ]
  },
  {
   "cell_type": "markdown",
   "id": "105a61f4-f8b6-4396-a681-90f032cdd655",
   "metadata": {},
   "source": [
    "OK, so using a single logical processor was quicker in this case, but this is a rather simple example. The benefits of multithreading are most likely lost on this example. "
   ]
  }
 ],
 "metadata": {
  "kernelspec": {
   "display_name": "Python 3 (ipykernel)",
   "language": "python",
   "name": "python3"
  },
  "language_info": {
   "codemirror_mode": {
    "name": "ipython",
    "version": 3
   },
   "file_extension": ".py",
   "mimetype": "text/x-python",
   "name": "python",
   "nbconvert_exporter": "python",
   "pygments_lexer": "ipython3",
   "version": "3.11.7"
  }
 },
 "nbformat": 4,
 "nbformat_minor": 5
}
